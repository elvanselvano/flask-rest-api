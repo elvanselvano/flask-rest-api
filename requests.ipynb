{
 "metadata": {
  "language_info": {
   "codemirror_mode": {
    "name": "ipython",
    "version": 3
   },
   "file_extension": ".py",
   "mimetype": "text/x-python",
   "name": "python",
   "nbconvert_exporter": "python",
   "pygments_lexer": "ipython3",
   "version": "3.9.1"
  },
  "orig_nbformat": 2,
  "kernelspec": {
   "name": "python391jvsc74a57bd0ac2eaa0ea0ebeafcc7822e65e46aa9d4f966f30b695406963e145ea4a91cd4fc",
   "display_name": "Python 3.9.1 64-bit ('python@3.9')"
  },
  "metadata": {
   "interpreter": {
    "hash": "ac2eaa0ea0ebeafcc7822e65e46aa9d4f966f30b695406963e145ea4a91cd4fc"
   }
  }
 },
 "nbformat": 4,
 "nbformat_minor": 2,
 "cells": [
  {
   "cell_type": "code",
   "execution_count": 115,
   "metadata": {},
   "outputs": [],
   "source": [
    "import requests"
   ]
  },
  {
   "cell_type": "code",
   "execution_count": 116,
   "metadata": {},
   "outputs": [],
   "source": [
    "employee1 = { \n",
    "    \"username\": \"deno\",\n",
    "    \"full_name\": \"Ryan Node\",\n",
    "    \"gender\": \"M\",\n",
    "    \"married\": True\n",
    "}\n",
    "\n",
    "employee1_custom = { \n",
    "    \"username\": \"deno\",\n",
    "    \"full_name\": \"Ryan Edited\",\n",
    "    \"gender\": \"M\",\n",
    "    \"married\": True\n",
    "}\n",
    "\n",
    "employee2 = { \n",
    "    \"username\": \"Elvan\",\n",
    "    \"full_name\": \"Elvan Selvano\",\n",
    "    \"gender\": \"M\",\n",
    "    \"married\": False\n",
    "}\n",
    "\n",
    "employee3 = {\n",
    "    \"username\": \"Budi\",\n",
    "    \"full_name\": \"Budi Cahyadi\",\n",
    "    \"gender\": \"M\",\n",
    "    \"married\": True\n",
    "}\n",
    "\n",
    "employee4 = {\n",
    "    \"username\": \"Cecep\",\n",
    "    \"full_name\": \"Cecep\",\n",
    "    \"gender\": \"M\",\n",
    "    \"married\": False\n",
    "}"
   ]
  },
  {
   "cell_type": "code",
   "execution_count": 117,
   "metadata": {},
   "outputs": [],
   "source": [
    "def viewAllEmployee():\n",
    "    result = requests.get('http://127.0.0.1:5000/employee')\n",
    "    print(result.json())\n",
    "\n",
    "def insertEmployee(data):\n",
    "    result = requests.post('http://127.0.0.1:5000/employee', data=data)\n",
    "    print(result.json())\n",
    "\n",
    "def updateEmployee(id, new_data):\n",
    "    result = requests.patch('http://127.0.0.1:5000/employee/' + str(id), data=new_data)\n",
    "    print(result.json())\n",
    "\n",
    "def deleteEmployee(id):\n",
    "    result = requests.delete('http://127.0.0.1:5000/employee/' + str(id))\n",
    "    print(result.json())"
   ]
  },
  {
   "cell_type": "code",
   "execution_count": 136,
   "metadata": {},
   "outputs": [
    {
     "output_type": "stream",
     "name": "stdout",
     "text": [
      "{'message': 'Insert Success'}\n"
     ]
    }
   ],
   "source": [
    "insertEmployee(employee4)"
   ]
  },
  {
   "cell_type": "code",
   "execution_count": 133,
   "metadata": {},
   "outputs": [
    {
     "output_type": "stream",
     "name": "stdout",
     "text": [
      "{'message': 'Delete Success', 'user_id': '18'}\n"
     ]
    }
   ],
   "source": [
    "deleteEmployee(18)"
   ]
  },
  {
   "cell_type": "code",
   "execution_count": 137,
   "metadata": {},
   "outputs": [
    {
     "output_type": "stream",
     "name": "stdout",
     "text": [
      "[{'full_name': 'Cecep', 'gender': 'M', 'id': 19, 'married': 1, 'username': 'Cecep'}]\n"
     ]
    }
   ],
   "source": [
    "viewAllEmployee()"
   ]
  },
  {
   "cell_type": "code",
   "execution_count": null,
   "metadata": {},
   "outputs": [],
   "source": []
  }
 ]
}